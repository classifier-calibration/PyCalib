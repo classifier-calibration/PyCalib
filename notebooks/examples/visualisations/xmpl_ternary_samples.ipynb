{
  "cells": [
    {
      "cell_type": "code",
      "execution_count": null,
      "metadata": {
        "collapsed": false
      },
      "outputs": [],
      "source": [
        "%matplotlib inline"
      ]
    },
    {
      "cell_type": "markdown",
      "metadata": {},
      "source": [
        "\n# Plotting reliability diagrams\n\nThis example illustrates how to visualise the reliability diagram for a binary\nprobabilistic classifier.\n"
      ]
    },
    {
      "cell_type": "code",
      "execution_count": null,
      "metadata": {
        "collapsed": false
      },
      "outputs": [],
      "source": [
        "# Author: Miquel Perello Nieto <miquel.perellonieto@bristol.ac.uk>\n# License: new BSD\n\nprint(__doc__)\nSAVEFIGS=False"
      ]
    },
    {
      "cell_type": "markdown",
      "metadata": {},
      "source": [
        "This example shows different ways to visualise the reliability diagram for a\nbinary classification problem.\n\nFirst we will generate two synthetic models and some synthetic scores and\nlabels.\n\n"
      ]
    },
    {
      "cell_type": "code",
      "execution_count": null,
      "metadata": {
        "collapsed": false
      },
      "outputs": [],
      "source": [
        "import matplotlib.pyplot as plt\nimport numpy as np\nnp.random.seed(42)\n\nn_c1 = n_c2 = n_c3 = 300\np = np.concatenate((np.random.dirichlet([6, 2, 3], n_c1),\n                    np.random.dirichlet([5, 12, 5], n_c2),\n                    np.random.dirichlet([2, 3, 5], n_c3)\n                   ))\n\ny = np.concatenate((np.zeros(n_c1), np.ones(n_c2), np.ones(n_c3)*2))\n\nfrom pycalib.visualisations.ternary import draw_tri_samples\n\nfig, ax = draw_tri_samples(p, classes=y, alpha=0.6)\n\nif SAVEFIGS:\n    fig.savefig('fig1.png')\n\nfig, ax = draw_tri_samples(p, classes=y, alpha=0.6,\n                           labels=['dogs', 'cats', 'fox'],\n                           color_list=['saddlebrown', 'black', 'darkorange'])\n\nif SAVEFIGS:\n    fig.savefig('fig2.png')"
      ]
    }
  ],
  "metadata": {
    "kernelspec": {
      "display_name": "Python 3",
      "language": "python",
      "name": "python3"
    },
    "language_info": {
      "codemirror_mode": {
        "name": "ipython",
        "version": 3
      },
      "file_extension": ".py",
      "mimetype": "text/x-python",
      "name": "python",
      "nbconvert_exporter": "python",
      "pygments_lexer": "ipython3",
      "version": "3.8.8"
    }
  },
  "nbformat": 4,
  "nbformat_minor": 0
}