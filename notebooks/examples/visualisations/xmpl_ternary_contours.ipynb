{
  "cells": [
    {
      "cell_type": "code",
      "execution_count": null,
      "metadata": {
        "collapsed": false
      },
      "outputs": [],
      "source": [
        "%matplotlib inline"
      ]
    },
    {
      "cell_type": "markdown",
      "metadata": {},
      "source": [
        "\n# Draw contour function of ternary simplex space\n\nThis example illustrates how to draw contourplots for functions with 3\nprobability inputs and multiple outputs.\n"
      ]
    },
    {
      "cell_type": "code",
      "execution_count": null,
      "metadata": {
        "collapsed": false
      },
      "outputs": [],
      "source": [
        "# Author: Miquel Perello Nieto <miquel.perellonieto@bristol.ac.uk>\n# License: new BSD\n\nimport matplotlib.pyplot as plt\nimport numpy as np\nnp.random.seed(42)\n\nprint(__doc__)\nSAVEFIGS=False"
      ]
    },
    {
      "cell_type": "markdown",
      "metadata": {},
      "source": [
        "We show first how to draw a heatmap on a ternary probability simplex, in this\ncase we will define a Dirichlet function and pass it with default parameters.\n\n"
      ]
    },
    {
      "cell_type": "code",
      "execution_count": null,
      "metadata": {
        "collapsed": false
      },
      "outputs": [],
      "source": [
        "from scipy.stats import dirichlet\n\nfrom pycalib.visualisations.ternary import draw_func_contours\n\nfunction = lambda x: dirichlet.pdf(x, alpha=[5, 3, 2])\nfig = draw_func_contours(function)\n\nif SAVEFIGS:\n    fig.savefig('fig1.png')"
      ]
    },
    {
      "cell_type": "markdown",
      "metadata": {},
      "source": [
        "Next we show how do use a ternary calibration model that has 3 probability\ninputs and 3 ouputs. We will first simulate a calibrator by simulating 3\nDirichlet distributions and applying Bayes rule with equal prior.\n\n"
      ]
    },
    {
      "cell_type": "code",
      "execution_count": null,
      "metadata": {
        "collapsed": false
      },
      "outputs": [],
      "source": [
        "class calibrator():\n    def predict_proba(self, x):\n        pred1 = dirichlet.pdf(x, alpha=[3, 1, 1])\n        pred2 = dirichlet.pdf(x, alpha=[6, 7, 5])\n        pred3 = dirichlet.pdf(x, alpha=[3, 4, 5])\n        pred = np.vstack([pred1, pred2, pred3]).T\n        pred = pred / pred.sum(axis=1)[:, None]\n        return pred\n\ncal = calibrator()"
      ]
    },
    {
      "cell_type": "markdown",
      "metadata": {},
      "source": [
        "Then we will first draw a contourmap only for the first class. We do that by\ncreating a lambda function and selecting the first column.\nWe also select a colormap for the first class.\n\n"
      ]
    },
    {
      "cell_type": "code",
      "execution_count": null,
      "metadata": {
        "collapsed": false
      },
      "outputs": [],
      "source": [
        "function = lambda x: cal.predict_proba(x.reshape(-1, 1))[0][0]\nfig = draw_func_contours(function, cmap='Reds')\n\nif SAVEFIGS:\n    fig.savefig('fig2.png')"
      ]
    },
    {
      "cell_type": "markdown",
      "metadata": {},
      "source": [
        "We can look at the second class by creating a new lambda function and\nselecting the second column. We will also modify how many times to subdivide\nthe simplex (subdiv=3). And the number of contour values (nlevels=10).\n\n"
      ]
    },
    {
      "cell_type": "code",
      "execution_count": null,
      "metadata": {
        "collapsed": false
      },
      "outputs": [],
      "source": [
        "function = lambda x: cal.predict_proba(x.reshape(-1, 1))[0][1]\nfig = draw_func_contours(function, nlevels=10, subdiv=3, cmap='Oranges')\n\nif SAVEFIGS:\n    fig.savefig('fig3.png')"
      ]
    },
    {
      "cell_type": "markdown",
      "metadata": {},
      "source": [
        "Finally we show the 3rd class with other sets of parameters and specifying\nthe names of each class.\n\n"
      ]
    },
    {
      "cell_type": "code",
      "execution_count": null,
      "metadata": {
        "collapsed": false
      },
      "outputs": [],
      "source": [
        "function = lambda x: cal.predict_proba(x.reshape(-1, 1))[0][2]\nfig = draw_func_contours(function, nlevels=10, subdiv=5, cmap='Blues',\n                         labels=['strawberry', 'orange', 'smurf'])\n\nif SAVEFIGS:\n    fig.savefig('fig4.png')"
      ]
    },
    {
      "cell_type": "markdown",
      "metadata": {},
      "source": [
        "In order to plot the contours of all classes in the same figure it is\nnecessary to loop over all subplots. We show an example that uses the\nprevious functions.\n\n"
      ]
    },
    {
      "cell_type": "code",
      "execution_count": null,
      "metadata": {
        "collapsed": false
      },
      "outputs": [],
      "source": [
        "labels=['strawberry', 'orange', 'smurf']\ncmap_list = ['Reds', 'Oranges', 'Blues']\nfig = plt.figure(figsize=(10, 5))\nfor c in [0, 1, 2]:\n    ax = fig.add_subplot(1, 3, c+1)\n    ax.set_title('{}\\n$(C_{})$'.format(labels[c], c), loc='left')\n    function = lambda x: cal.predict_proba(x.reshape(-1, 1))[0][c]\n    fig = draw_func_contours(function, nlevels=30, subdiv=5, cmap=cmap_list[c],\n                             ax=ax, fig=fig)\n\nif SAVEFIGS:\n    fig.savefig('fig5.png')"
      ]
    }
  ],
  "metadata": {
    "kernelspec": {
      "display_name": "Python 3",
      "language": "python",
      "name": "python3"
    },
    "language_info": {
      "codemirror_mode": {
        "name": "ipython",
        "version": 3
      },
      "file_extension": ".py",
      "mimetype": "text/x-python",
      "name": "python",
      "nbconvert_exporter": "python",
      "pygments_lexer": "ipython3",
      "version": "3.8.8"
    }
  },
  "nbformat": 4,
  "nbformat_minor": 0
}